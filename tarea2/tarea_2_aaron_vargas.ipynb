{
 "cells": [
  {
   "cell_type": "markdown",
   "id": "966785bc",
   "metadata": {},
   "source": [
    "## Entrega Tarea 2 \n",
    "# Higgs Challenge\n",
    "\n",
    "### Aaron Vargas\n",
    "### 201773076-5"
   ]
  },
  {
   "cell_type": "code",
   "execution_count": 46,
   "id": "4ee21ae8",
   "metadata": {},
   "outputs": [],
   "source": [
    "import numpy as np\n",
    "import pandas as pd\n",
    "import seaborn as sn"
   ]
  },
  {
   "cell_type": "code",
   "execution_count": 75,
   "id": "70bd10e9",
   "metadata": {},
   "outputs": [],
   "source": [
    "random_state=45"
   ]
  },
  {
   "cell_type": "markdown",
   "id": "1d1c3847",
   "metadata": {},
   "source": [
    "# Descripción de datos"
   ]
  },
  {
   "cell_type": "markdown",
   "id": "9be4cf16",
   "metadata": {},
   "source": [
    "## Carga de datos"
   ]
  },
  {
   "cell_type": "code",
   "execution_count": 156,
   "id": "bcb5a28b",
   "metadata": {},
   "outputs": [],
   "source": [
    "higgs_feat_file = 'Higgs_features.csv'\n",
    "higgs_labels_file = 'Higgs_labels.csv'\n",
    "\n",
    "def parms(labels=False):\n",
    "    # Parámetros en común para ambos read_csv que no quiero repetir\n",
    "    return {\n",
    "        # Carga de datos con C++, y tipo de datos de pyarrow + eficientes - memoria - tiempo\n",
    "        'engine': 'pyarrow', \n",
    "        'dtype_backend': 'pyarrow',\n",
    "        # Nombre de las columnas porque no vienen\n",
    "        'names': [ f'feat_{i}' for i in range(8) ] if not labels else ['Highs'] ,\n",
    "        }\n",
    "\n",
    "# * desempaquetado, ** desempaquetado parcial\n",
    "higgs_features = pd.read_csv(higgs_feat_file, **parms() )\n",
    "higgs_labels = pd.read_csv(higgs_labels_file, **parms(True) )"
   ]
  },
  {
   "cell_type": "markdown",
   "id": "853a33d2",
   "metadata": {},
   "source": [
    "## Instancias y características"
   ]
  },
  {
   "cell_type": "markdown",
   "id": "4f576003",
   "metadata": {},
   "source": [
    "### Features"
   ]
  },
  {
   "cell_type": "code",
   "execution_count": 157,
   "id": "d5934716",
   "metadata": {},
   "outputs": [
    {
     "data": {
      "text/html": [
       "<div>\n",
       "<style scoped>\n",
       "    .dataframe tbody tr th:only-of-type {\n",
       "        vertical-align: middle;\n",
       "    }\n",
       "\n",
       "    .dataframe tbody tr th {\n",
       "        vertical-align: top;\n",
       "    }\n",
       "\n",
       "    .dataframe thead th {\n",
       "        text-align: right;\n",
       "    }\n",
       "</style>\n",
       "<table border=\"1\" class=\"dataframe\">\n",
       "  <thead>\n",
       "    <tr style=\"text-align: right;\">\n",
       "      <th></th>\n",
       "      <th>feat_0</th>\n",
       "      <th>feat_1</th>\n",
       "      <th>feat_2</th>\n",
       "      <th>feat_3</th>\n",
       "      <th>feat_4</th>\n",
       "      <th>feat_5</th>\n",
       "      <th>feat_6</th>\n",
       "      <th>feat_7</th>\n",
       "    </tr>\n",
       "  </thead>\n",
       "  <tbody>\n",
       "    <tr>\n",
       "      <th>0</th>\n",
       "      <td>393.335</td>\n",
       "      <td>79.46</td>\n",
       "      <td>308.879</td>\n",
       "      <td>4.095</td>\n",
       "      <td>1.403</td>\n",
       "      <td>-1.411</td>\n",
       "      <td>49.063</td>\n",
       "      <td>39.478</td>\n",
       "    </tr>\n",
       "    <tr>\n",
       "      <th>1</th>\n",
       "      <td>71.048</td>\n",
       "      <td>29.291</td>\n",
       "      <td>55.602</td>\n",
       "      <td>2.439</td>\n",
       "      <td>1.667</td>\n",
       "      <td>-1.412</td>\n",
       "      <td>22.926</td>\n",
       "      <td>9.486</td>\n",
       "    </tr>\n",
       "    <tr>\n",
       "      <th>2</th>\n",
       "      <td>141.45</td>\n",
       "      <td>87.017</td>\n",
       "      <td>72.091</td>\n",
       "      <td>1.472</td>\n",
       "      <td>4.714</td>\n",
       "      <td>1.233</td>\n",
       "      <td>23.591</td>\n",
       "      <td>69.754</td>\n",
       "    </tr>\n",
       "    <tr>\n",
       "      <th>3</th>\n",
       "      <td>156.539</td>\n",
       "      <td>39.797</td>\n",
       "      <td>127.933</td>\n",
       "      <td>4.017</td>\n",
       "      <td>1.279</td>\n",
       "      <td>-1.408</td>\n",
       "      <td>21.415</td>\n",
       "      <td>18.222</td>\n",
       "    </tr>\n",
       "    <tr>\n",
       "      <th>4</th>\n",
       "      <td>89.639</td>\n",
       "      <td>34.399</td>\n",
       "      <td>66.741</td>\n",
       "      <td>2.934</td>\n",
       "      <td>1.417</td>\n",
       "      <td>-1.377</td>\n",
       "      <td>26.459</td>\n",
       "      <td>8.257</td>\n",
       "    </tr>\n",
       "  </tbody>\n",
       "</table>\n",
       "</div>"
      ],
      "text/plain": [
       "    feat_0  feat_1   feat_2  feat_3  feat_4  feat_5  feat_6  feat_7\n",
       "0  393.335   79.46  308.879   4.095   1.403  -1.411  49.063  39.478\n",
       "1   71.048  29.291   55.602   2.439   1.667  -1.412  22.926   9.486\n",
       "2   141.45  87.017   72.091   1.472   4.714   1.233  23.591  69.754\n",
       "3  156.539  39.797  127.933   4.017   1.279  -1.408  21.415  18.222\n",
       "4   89.639  34.399   66.741   2.934   1.417  -1.377  26.459   8.257"
      ]
     },
     "execution_count": 157,
     "metadata": {},
     "output_type": "execute_result"
    }
   ],
   "source": [
    "higgs_features.head()"
   ]
  },
  {
   "cell_type": "code",
   "execution_count": 158,
   "id": "c643f4db",
   "metadata": {},
   "outputs": [
    {
     "data": {
      "text/html": [
       "<div>\n",
       "<style scoped>\n",
       "    .dataframe tbody tr th:only-of-type {\n",
       "        vertical-align: middle;\n",
       "    }\n",
       "\n",
       "    .dataframe tbody tr th {\n",
       "        vertical-align: top;\n",
       "    }\n",
       "\n",
       "    .dataframe thead th {\n",
       "        text-align: right;\n",
       "    }\n",
       "</style>\n",
       "<table border=\"1\" class=\"dataframe\">\n",
       "  <thead>\n",
       "    <tr style=\"text-align: right;\">\n",
       "      <th></th>\n",
       "      <th>feat_0</th>\n",
       "      <th>feat_1</th>\n",
       "      <th>feat_2</th>\n",
       "      <th>feat_3</th>\n",
       "      <th>feat_4</th>\n",
       "      <th>feat_5</th>\n",
       "      <th>feat_6</th>\n",
       "      <th>feat_7</th>\n",
       "    </tr>\n",
       "  </thead>\n",
       "  <tbody>\n",
       "    <tr>\n",
       "      <th>count</th>\n",
       "      <td>25000.0</td>\n",
       "      <td>25000.0</td>\n",
       "      <td>25000.0</td>\n",
       "      <td>25000.0</td>\n",
       "      <td>25000.0</td>\n",
       "      <td>25000.0</td>\n",
       "      <td>25000.0</td>\n",
       "      <td>25000.0</td>\n",
       "    </tr>\n",
       "    <tr>\n",
       "      <th>mean</th>\n",
       "      <td>-48.086665</td>\n",
       "      <td>49.138061</td>\n",
       "      <td>80.961395</td>\n",
       "      <td>2.371241</td>\n",
       "      <td>1.438941</td>\n",
       "      <td>-0.120674</td>\n",
       "      <td>38.688834</td>\n",
       "      <td>41.807678</td>\n",
       "    </tr>\n",
       "    <tr>\n",
       "      <th>std</th>\n",
       "      <td>404.976294</td>\n",
       "      <td>35.10046</td>\n",
       "      <td>39.852463</td>\n",
       "      <td>0.781237</td>\n",
       "      <td>0.846006</td>\n",
       "      <td>1.191625</td>\n",
       "      <td>22.446069</td>\n",
       "      <td>32.431353</td>\n",
       "    </tr>\n",
       "    <tr>\n",
       "      <th>min</th>\n",
       "      <td>-999.0</td>\n",
       "      <td>0.005</td>\n",
       "      <td>9.495</td>\n",
       "      <td>0.313</td>\n",
       "      <td>0.077</td>\n",
       "      <td>-1.414</td>\n",
       "      <td>20.0</td>\n",
       "      <td>0.346</td>\n",
       "    </tr>\n",
       "    <tr>\n",
       "      <th>25%</th>\n",
       "      <td>78.321</td>\n",
       "      <td>19.2605</td>\n",
       "      <td>59.251</td>\n",
       "      <td>1.801</td>\n",
       "      <td>0.878</td>\n",
       "      <td>-1.368</td>\n",
       "      <td>24.5835</td>\n",
       "      <td>21.447</td>\n",
       "    </tr>\n",
       "    <tr>\n",
       "      <th>50%</th>\n",
       "      <td>104.802</td>\n",
       "      <td>46.791</td>\n",
       "      <td>73.521</td>\n",
       "      <td>2.49</td>\n",
       "      <td>1.279</td>\n",
       "      <td>-0.312</td>\n",
       "      <td>31.776</td>\n",
       "      <td>34.841</td>\n",
       "    </tr>\n",
       "    <tr>\n",
       "      <th>75%</th>\n",
       "      <td>130.04525</td>\n",
       "      <td>73.27525</td>\n",
       "      <td>92.0545</td>\n",
       "      <td>2.961</td>\n",
       "      <td>1.776</td>\n",
       "      <td>1.229</td>\n",
       "      <td>44.956</td>\n",
       "      <td>51.75525</td>\n",
       "    </tr>\n",
       "    <tr>\n",
       "      <th>max</th>\n",
       "      <td>835.25</td>\n",
       "      <td>595.819</td>\n",
       "      <td>640.039</td>\n",
       "      <td>5.655</td>\n",
       "      <td>13.137</td>\n",
       "      <td>1.414</td>\n",
       "      <td>381.629</td>\n",
       "      <td>551.06</td>\n",
       "    </tr>\n",
       "  </tbody>\n",
       "</table>\n",
       "</div>"
      ],
      "text/plain": [
       "           feat_0     feat_1     feat_2    feat_3    feat_4    feat_5  \\\n",
       "count     25000.0    25000.0    25000.0   25000.0   25000.0   25000.0   \n",
       "mean   -48.086665  49.138061  80.961395  2.371241  1.438941 -0.120674   \n",
       "std    404.976294   35.10046  39.852463  0.781237  0.846006  1.191625   \n",
       "min        -999.0      0.005      9.495     0.313     0.077    -1.414   \n",
       "25%        78.321    19.2605     59.251     1.801     0.878    -1.368   \n",
       "50%       104.802     46.791     73.521      2.49     1.279    -0.312   \n",
       "75%     130.04525   73.27525    92.0545     2.961     1.776     1.229   \n",
       "max        835.25    595.819    640.039     5.655    13.137     1.414   \n",
       "\n",
       "          feat_6     feat_7  \n",
       "count    25000.0    25000.0  \n",
       "mean   38.688834  41.807678  \n",
       "std    22.446069  32.431353  \n",
       "min         20.0      0.346  \n",
       "25%      24.5835     21.447  \n",
       "50%       31.776     34.841  \n",
       "75%       44.956   51.75525  \n",
       "max      381.629     551.06  "
      ]
     },
     "execution_count": 158,
     "metadata": {},
     "output_type": "execute_result"
    }
   ],
   "source": [
    "higgs_features.describe()"
   ]
  },
  {
   "cell_type": "code",
   "execution_count": 159,
   "id": "8600d360",
   "metadata": {},
   "outputs": [
    {
     "data": {
      "text/plain": [
       "<Axes: ylabel='Frequency'>"
      ]
     },
     "execution_count": 159,
     "metadata": {},
     "output_type": "execute_result"
    },
    {
     "data": {
      "image/png": "[encoded data removed]",
      "text/plain": [
       "<Figure size 640x480 with 1 Axes>"
      ]
     },
     "metadata": {},
     "output_type": "display_data"
    }
   ],
   "source": [
    "higgs_features.plot.hist(alpha=0.5, bins=100 )"
   ]
  },
  {
   "cell_type": "markdown",
   "id": "4b435be8",
   "metadata": {},
   "source": [
    "Se observa dos cosas inusuales\n",
    "1) Hay valores negativos en -1000. En la competencia en Kaggle se indica que se dan valores de -999 a datos sin sentido o que no pudieron ser computados. Se observa que corresponde principalmente a los valores de la `feat_0`\n",
    "2) Hay muchos valores en 0. Complementando con la información de `.describe()` no hay valores de 0 para la mayoría de las features, solo muy cercanos. Para la `feat_5` ronda en valores desde -1.4 a 1.4 el cual podría explicar que hayan tantos valores en cercanos a cero. Por lo que se concluye que no es un problema."
   ]
  },
  {
   "cell_type": "markdown",
   "id": "bab77656",
   "metadata": {},
   "source": [
    "### Labels"
   ]
  },
  {
   "cell_type": "code",
   "execution_count": 160,
   "id": "726fa3f9",
   "metadata": {},
   "outputs": [
    {
     "data": {
      "text/plain": [
       "Highs\n",
       "0        16526\n",
       "1         8474\n",
       "Name: count, dtype: int64"
      ]
     },
     "execution_count": 160,
     "metadata": {},
     "output_type": "execute_result"
    }
   ],
   "source": [
    "higgs_labels.value_counts()"
   ]
  },
  {
   "cell_type": "markdown",
   "id": "49d0aa4a",
   "metadata": {},
   "source": [
    "Se ve claramente que los datos se encuentran **desbalanceados**\n",
    "\n",
    "La clase `0` tiene el **doble** de datos que la clase `1`. Se considera\n",
    "- Clase **positiva**: label `1` ya que corresponde al si es un boson de higgs\n",
    "- Clase **negativa**: label `0`"
   ]
  },
  {
   "attachments": {
    "image.png": {
     "image/png": "[encoded data removed]"
    }
   },
   "cell_type": "markdown",
   "id": "1e06d1b2",
   "metadata": {},
   "source": [
    "Diagrama para determinar metrica:\n",
    "\n",
    "![image.png](attachment:image.png)"
   ]
  },
  {
   "cell_type": "markdown",
   "id": "6f9de22e",
   "metadata": {},
   "source": [
    "Se elige la métrica $\\operatorname{F_{\\beta}-Score}$, y `Recall` entre las métricas de ``{accuracy, recall, y precisión}``. La razón del por qué:\n",
    "\n",
    "- Se **descarta** ``accuracy``, ya que este simplemente busca aumentar tanto los aciertos para la **clase positiva TP y la clase negativa**, pero los datos están desbalanceados, por lo que habrá un **sesgo para la clase negativa**\n",
    "- Usar cualquiera de las dos métricas, `recall` y `precission` es buena idea, ya que estos **priorizan la clase positiva TP**  sobre la clase negativa. Sin embargo, hay diferencias leves según interés.\n",
    "\n",
    "- **Precission**, disminuye los **False Positives**, y **recall** disminuye los **False Negative**. \n",
    "- Si queremos asegurarnos de cuando el modelo dice _\"esta instancia es de la clase positiva\"_ sea **cierto** debemos usar `precission`, maximiza la clase negativa (-FP) y se pueden perder instancias Positivas clasificados como False (+FN)\n",
    "- Si queremos que asegurarnos de que cuando el modelo dice *\"esta instancia es clase negativa\"* sea **cierto** debemos elegir `recall`, maximiza la clase positiva (-FN) y se pierden instancias Negativos clasificados como True o Positivas (+FP)\n",
    "\n",
    "En el paper del challenge explica que los casos reales son mucho más desbalanceados de lo que están ahora las instancias. Esto puede provocar que el modelo puesta en marcha con instancias reales **aumente los FN y los FP**. \n",
    "\n",
    "Como queremos conservar la mayor cantidad de *TP* que elegimos la métrica ``recall``, ya que esta rescata la mayor cantidad de instancias Positivas (+TP y -FN, ya que el total de instancias Positivas son TP+FN). Sin embargo, no nos interesa clasificar mal instancias Negativas, a demás de que el se verá reducido los casos de interés y se podrá revisar incluso manualmente, sin embargo, si se maximizara la precisión, se perderían una mayor cantidad de casos positivos entre la gran catidad de instancias de la clase Negativa lo que haría imposible una verifiacción manual y se perdería el objetivo de realizar un modelo"
   ]
  },
  {
   "cell_type": "markdown",
   "id": "168bc391",
   "metadata": {},
   "source": [
    "¿Por qué no ``F-Score``? F-Score tiene la ventaja que trata de minimizar FP como FN, pero le da la misma cantidad de importancia. Según lo señalado en el contexto anterior, el `recall` es más ``importante`` que precision. Esto se arregla con un $\\operatorname{F_{\\beta}-{\\text{Score}}}$ donde $\\beta$ representa cuánto más importante es el recall frente a precision."
   ]
  },
  {
   "attachments": {
    "image.png": {
     "image/png": "[encoded data removed]"
    }
   },
   "cell_type": "markdown",
   "id": "5ddec783",
   "metadata": {},
   "source": [
    "![image.png](attachment:image.png)"
   ]
  },
  {
   "cell_type": "markdown",
   "id": "60e5d776",
   "metadata": {},
   "source": [
    "# Árbol de decisión"
   ]
  },
  {
   "cell_type": "markdown",
   "id": "5ee254ec",
   "metadata": {},
   "source": [
    "¿Por qué usar `stratifiedkfold`?\n",
    "\n",
    "R: Porque las clases están desbalanceadas, así cada fold tiene la misma proporción de de datos por clases de los datos originales cargados. Esto hace que el entrenmiento sea más confiable y los resultados de las métricas sean representativas para la clase original."
   ]
  },
  {
   "cell_type": "code",
   "execution_count": 183,
   "id": "e3e9b63a",
   "metadata": {},
   "outputs": [],
   "source": [
    "from sklearn.tree import DecisionTreeClassifier\n",
    "from sklearn.model_selection import StratifiedKFold, cross_val_score, cross_val_predict, train_test_split\n",
    "from sklearn.metrics import fbeta_score, make_scorer, ConfusionMatrixDisplay, confusion_matrix"
   ]
  },
  {
   "cell_type": "code",
   "execution_count": 162,
   "id": "e4d794f9",
   "metadata": {},
   "outputs": [],
   "source": [
    "# No se necesita hacer esto porque cross_val_predict devuelve predicciones\n",
    "# hecha por un modelo-k que nunca se entrenó con ese tramo de datos\n",
    "# entonces la predicción del tramo k lo hace un modelo distinto cada vez\n",
    "# x_train, x_val, y_train, y_val = train_test_split(\n",
    "#     higgs_features,\n",
    "#     higgs_labels,\n",
    "#     test_size=0.2\n",
    "# )"
   ]
  },
  {
   "cell_type": "code",
   "execution_count": null,
   "id": "6a0ccd13",
   "metadata": {},
   "outputs": [],
   "source": [
    "# el scorer mecionado antes para priorizar recall\n",
    "fbeta_scorer = make_scorer(\n",
    "    fbeta_score, \n",
    "    # parametros de fbeta_score\n",
    "    beta=2,\n",
    "    average='binary'\n",
    ")"
   ]
  },
  {
   "cell_type": "code",
   "execution_count": 164,
   "id": "552934c3",
   "metadata": {},
   "outputs": [],
   "source": [
    "tree = DecisionTreeClassifier(\n",
    "    random_state=random_state,\n",
    "    criterion='gini',\n",
    "    splitter='best',\n",
    "    max_depth=20,\n",
    "    class_weight={0: 1, 1: 2}\n",
    ")"
   ]
  },
  {
   "cell_type": "code",
   "execution_count": 184,
   "id": "a3eb9218",
   "metadata": {},
   "outputs": [
    {
     "data": {
      "text/plain": [
       "array([0.6661251 , 0.66264354, 0.65541327, 0.67875951, 0.65674463])"
      ]
     },
     "execution_count": 184,
     "metadata": {},
     "output_type": "execute_result"
    }
   ],
   "source": [
    "kfold_estrategia = StratifiedKFold(\n",
    "    n_splits=5,\n",
    "    shuffle=True,\n",
    "    random_state=random_state\n",
    ")\n",
    "\n",
    "fbeta_scores = cross_val_score(\n",
    "    estimator= tree,\n",
    "    X= higgs_features,\n",
    "    y= higgs_labels,\n",
    "    cv=kfold_estrategia,\n",
    "    scoring=fbeta_scorer,\n",
    ")\n",
    "fbeta_scores"
   ]
  },
  {
   "cell_type": "code",
   "execution_count": 185,
   "id": "7dd20614",
   "metadata": {},
   "outputs": [
    {
     "name": "stdout",
     "output_type": "stream",
     "text": [
      "mean: 0.6639372100615646\n",
      "std: 0.008373192672468131\n"
     ]
    }
   ],
   "source": [
    "print(f'mean: {fbeta_scores.mean()}\\nstd: {fbeta_scores.std()}')"
   ]
  },
  {
   "cell_type": "markdown",
   "id": "f1751e29",
   "metadata": {},
   "source": [
    "Se reporta que el modelo tiene en promedio un 0.66 de `fbeta_score` con una desviación estandar de $\\pm 0.008$. Esto indica que los 5 modelos mas o menos dieron el mismo resultado con cada fold, y no hay diferencias negativas, así que es representativo"
   ]
  },
  {
   "cell_type": "code",
   "execution_count": 186,
   "id": "66ac8424",
   "metadata": {},
   "outputs": [
    {
     "data": {
      "text/plain": [
       "array([0., 1., 1., ..., 0., 0., 0.], shape=(25000,))"
      ]
     },
     "execution_count": 186,
     "metadata": {},
     "output_type": "execute_result"
    }
   ],
   "source": [
    "\n",
    "pred = cross_val_predict(\n",
    "    estimator=tree,\n",
    "    X=higgs_features,\n",
    "    y=higgs_labels,\n",
    "    cv=kfold_estrategia,\n",
    ")\n",
    "pred"
   ]
  },
  {
   "cell_type": "code",
   "execution_count": 206,
   "id": "2b27730c",
   "metadata": {},
   "outputs": [],
   "source": [
    "def plot_confusion(pred, trues):\n",
    "    confusion = confusion_matrix(y_pred=pred, y_true=trues )\n",
    "    ConfusionMatrixDisplay.from_predictions(\n",
    "        y_true=trues,\n",
    "        y_pred=pred,\n",
    "        labels=[1,0]\n",
    "    )\n",
    "\n",
    "    return confusion"
   ]
  },
  {
   "cell_type": "code",
   "execution_count": 208,
   "id": "fb38c5d9",
   "metadata": {},
   "outputs": [
    {
     "name": "stdout",
     "output_type": "stream",
     "text": [
      "[[13347  3179]\n",
      " [ 2797  5677]]\n"
     ]
    },
    {
     "data": {
      "image/png": "[encoded data removed]",
      "text/plain": [
       "<Figure size 640x480 with 2 Axes>"
      ]
     },
     "metadata": {},
     "output_type": "display_data"
    }
   ],
   "source": [
    "tree_confusion = plot_confusion(pred=pred, trues=higgs_labels)\n",
    "print(tree_confusion)"
   ]
  },
  {
   "cell_type": "code",
   "execution_count": 211,
   "id": "d95b0b9e",
   "metadata": {},
   "outputs": [],
   "source": [
    "def get_and_print_confusion_analisis(confusion, printt=False):\n",
    "    \"\"\"\n",
    "    output:\n",
    "    - Tuple (TP, TN, FN, FP)\n",
    "    \"\"\"\n",
    "    TP = confusion[1,1]\n",
    "    TN = confusion[0,0]\n",
    "    FN = confusion[1,0]\n",
    "    FP = confusion[0,1]\n",
    "\n",
    "    P = TP + FN\n",
    "    N = TN + FP\n",
    "\n",
    "    accuracy = ( TP + TN  )/( TP+TN+FN+FP) *100\n",
    "    recall =  TP / ( TP + FN )\n",
    "    precision = TP / (TP + FP)\n",
    "\n",
    "    if printt:\n",
    "        print(f'ACC: {accuracy}\\nRecall: {recall}\\nprecision: {precision}')\n",
    "        print(f'TP: {TP}\\nTN: {TN}\\nFN: {FN}\\nFP: {FP}')\n",
    "\n",
    "    return TP, TN, FN, FP"
   ]
  },
  {
   "cell_type": "code",
   "execution_count": 214,
   "id": "cbccf27c",
   "metadata": {},
   "outputs": [
    {
     "name": "stdout",
     "output_type": "stream",
     "text": [
      "ACC: 76.096\n",
      "Recall: 0.6699315553457635\n",
      "precision: 0.6410343270099368\n",
      "TP: 5677\n",
      "TN: 13347\n",
      "FN: 2797\n",
      "FP: 3179\n"
     ]
    }
   ],
   "source": [
    "_ = get_and_print_confusion_analisis(confusion=tree_confusion, printt=True)"
   ]
  },
  {
   "cell_type": "markdown",
   "id": "e695fe48",
   "metadata": {},
   "source": [
    "El error que domina entre FP y FN es FP ya que se está priorizando el recall que disminuye FP en el fbeta_score."
   ]
  },
  {
   "cell_type": "markdown",
   "id": "eb15317e",
   "metadata": {},
   "source": [
    "# SVM"
   ]
  },
  {
   "cell_type": "code",
   "execution_count": 189,
   "id": "17b851fe",
   "metadata": {},
   "outputs": [],
   "source": [
    "from sklearn.svm import SVC\n",
    "\n",
    "# from sklearn.model_selection import StratifiedKFold, cross_val_score, cross_val_predict, train_test_split\n",
    "# from sklearn.metrics import fbeta_score, make_scorer, ConfusionMatrixDisplay, confusion_matrix"
   ]
  },
  {
   "cell_type": "code",
   "execution_count": 190,
   "id": "233dd2e7",
   "metadata": {},
   "outputs": [],
   "source": [
    "svc = SVC()"
   ]
  },
  {
   "cell_type": "code",
   "execution_count": 192,
   "id": "8b3040c0",
   "metadata": {},
   "outputs": [
    {
     "data": {
      "text/plain": [
       "(25000, 1)"
      ]
     },
     "execution_count": 192,
     "metadata": {},
     "output_type": "execute_result"
    }
   ],
   "source": [
    "higgs_labels.shape"
   ]
  },
  {
   "cell_type": "code",
   "execution_count": 199,
   "id": "13b26e6b",
   "metadata": {},
   "outputs": [
    {
     "data": {
      "text/plain": [
       "array([0.63237979, 0.62538245, 0.61280488, 0.64633702, 0.63437843])"
      ]
     },
     "execution_count": 199,
     "metadata": {},
     "output_type": "execute_result"
    }
   ],
   "source": [
    "svc_scores = cross_val_score( \n",
    "    estimator=svc, \n",
    "    X=higgs_features,\n",
    "    y=higgs_labels.to_numpy().ravel(), # pa evitar el warning de que le estoy pasando un vector\n",
    "    cv= kfold_estrategia,\n",
    "    scoring=fbeta_scorer,\n",
    " )\n",
    "svc_scores"
   ]
  },
  {
   "cell_type": "code",
   "execution_count": 202,
   "id": "df1b5a65",
   "metadata": {},
   "outputs": [
    {
     "name": "stdout",
     "output_type": "stream",
     "text": [
      "mean: 0.6302565141920724\n",
      "std: 0.011030840753428781\n"
     ]
    }
   ],
   "source": [
    "print(f'mean: {svc_scores.mean()}\\nstd: {svc_scores.std()}')"
   ]
  },
  {
   "cell_type": "markdown",
   "id": "f426a0f4",
   "metadata": {},
   "source": [
    "Sin optimizar, se ve que el STD es mayor que antes, y el mean es 0.3 puntos menor que el arbol de decisión"
   ]
  },
  {
   "cell_type": "code",
   "execution_count": 205,
   "id": "89c51caf",
   "metadata": {},
   "outputs": [
    {
     "data": {
      "text/plain": [
       "array([0, 0, 0, ..., 0, 0, 0], shape=(25000,))"
      ]
     },
     "execution_count": 205,
     "metadata": {},
     "output_type": "execute_result"
    }
   ],
   "source": [
    "\n",
    "svc_pred = cross_val_predict(\n",
    "    estimator=svc,\n",
    "    X=higgs_features,\n",
    "    y=higgs_labels.to_numpy().ravel(),\n",
    "    cv=kfold_estrategia,\n",
    ")\n",
    "svc_pred"
   ]
  },
  {
   "cell_type": "code",
   "execution_count": 216,
   "id": "3ca830cc",
   "metadata": {},
   "outputs": [
    {
     "name": "stdout",
     "output_type": "stream",
     "text": [
      "[[14578  1948]\n",
      " [ 3304  5170]]\n"
     ]
    },
    {
     "data": {
      "image/png": "[encoded data removed]",
      "text/plain": [
       "<Figure size 640x480 with 2 Axes>"
      ]
     },
     "metadata": {},
     "output_type": "display_data"
    }
   ],
   "source": [
    "svc_confusion = confusion_matrix(y_pred=svc_pred, y_true=higgs_labels )\n",
    "ConfusionMatrixDisplay.from_predictions(\n",
    "    y_true=higgs_labels,\n",
    "    y_pred=svc_pred,\n",
    "    labels=[1,0]\n",
    ")\n",
    "\n",
    "print(svc_confusion)\n"
   ]
  },
  {
   "cell_type": "code",
   "execution_count": 217,
   "id": "4ffed4c1",
   "metadata": {},
   "outputs": [
    {
     "name": "stdout",
     "output_type": "stream",
     "text": [
      "ACC: 78.99199999999999\n",
      "Recall: 0.6101014869011093\n",
      "precision: 0.7263276201180107\n",
      "TP: 5170\n",
      "TN: 14578\n",
      "FN: 3304\n",
      "FP: 1948\n"
     ]
    }
   ],
   "source": [
    "_=get_and_print_confusion_analisis(svc_confusion, True)"
   ]
  },
  {
   "cell_type": "markdown",
   "id": "9dd0ef02",
   "metadata": {},
   "source": [
    "Se ve que tiene mucho mejor FP pero peor FN, lo que empeora el recall, y mejora la precisión bastante, lo cual se diferencia del árbol de decisión. Esto se puede deber a que le puse pesos al árbol a favor de la clase positiva"
   ]
  }
 ],
 "metadata": {
  "kernelspec": {
   "display_name": "astro",
   "language": "python",
   "name": "python3"
  },
  "language_info": {
   "codemirror_mode": {
    "name": "ipython",
    "version": 3
   },
   "file_extension": ".py",
   "mimetype": "text/x-python",
   "name": "python",
   "nbconvert_exporter": "python",
   "pygments_lexer": "ipython3",
   "version": "3.12.0"
  }
 },
 "nbformat": 4,
 "nbformat_minor": 5
}
